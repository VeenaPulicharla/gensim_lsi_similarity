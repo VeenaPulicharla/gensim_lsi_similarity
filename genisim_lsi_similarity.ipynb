{
 "cells": [
  {
   "cell_type": "markdown",
   "metadata": {},
   "source": [
    "## Finding similarity between two documents using gensim LSI model"
   ]
  },
  {
   "cell_type": "code",
   "execution_count": 10,
   "metadata": {},
   "outputs": [
    {
     "name": "stdout",
     "output_type": "stream",
     "text": [
      "Dictionary(23 unique tokens: [u'walk', u'rat', u'k-nearestneighbourhood', u'technology', u'milk']...)\n",
      "MmCorpus(3 documents, 23 features, 26 non-zero entries)\n",
      "{'cat_dog': 0.54554474, 'egg_dog': 0.0, 'dog_cat': 0.54554474}\n"
     ]
    }
   ],
   "source": [
    "# find similarity between documents using gensim LSI\n",
    "from gensim import corpora\n",
    "from gensim import corpora, models, similarities\n",
    "\n",
    "def find_doc_lsi_similarity(neighborhood_dict, neighborhood_val):\n",
    "    \n",
    "    neighborhood_val = neighborhood_dict.values()\n",
    "    lsi_dict = {}\n",
    "    keys = neighborhood_dict.keys()\n",
    "    dictionary = corpora.Dictionary(neighborhood_val)\n",
    "    dictionary.save('neigh_dict_gens.dict')  # store the dictionary, for future reference\n",
    "    print(dictionary)\n",
    "    corpus = [dictionary.doc2bow(text) for text in neighborhood_val]\n",
    "    corpora.MmCorpus.serialize('neigh_dict_gens.dict.mm', corpus)  # store to disk, for later use\n",
    "    dictionary = corpora.Dictionary.load('neigh_dict_gens.dict')\n",
    "    corpus = corpora.MmCorpus('neigh_dict_gens.dict.mm')\n",
    "    print(corpus)\n",
    "\n",
    "    lsi = models.LsiModel(corpus, id2word=dictionary, num_topics=3)\n",
    "\n",
    "    for key in neighborhood_dict:\n",
    "        doc = \" \".join(neighborhood_dict[key])\n",
    "        vec_bow = dictionary.doc2bow(doc.lower().split())\n",
    "        vec_lsi = lsi[vec_bow] # convert the query to LSI space\n",
    "        index = similarities.MatrixSimilarity(lsi[corpus]) # transform corpus to LSI space and index it\n",
    "        index.save('/Users/vpulicharla/Desktop/genism_lsi/neigh_dict_gens.index')\n",
    "        index = similarities.MatrixSimilarity.load('/Users/vpulicharla/Desktop/genism_lsi/neigh_dict_gens.index')\n",
    "        sims = index[vec_lsi]\n",
    "        #print \"sims\", sims\n",
    "        #lsi_score = (list(enumerate(sims)))\n",
    "        lsi_score = sorted(enumerate(sims), key=lambda item: -item[1])\n",
    "        #print lsi_score\n",
    "        for i in range(len(lsi_score)-1):\n",
    "            concept = key+'_'+ keys[lsi_score[i][0]]\n",
    "            if key !=keys[lsi_score[i][0]]:\n",
    "                lsi_dict.update({concept:lsi_score[i][1]})    \n",
    "    return lsi_dict\n",
    "\n",
    "if __name__ == '__main__':\n",
    "    # sample dummy data\n",
    "    neighborhood_dict = {'cat': ['pedigree','sound','eat','dog','technology','run','rat','tech','eat','sound','run','meaww','data_science','walk','milk'],\n",
    "                      'dog': ['pedigree','sound','eat','cat'],\n",
    "                      'egg': ['k-nearestneighbourhood','neighbour','hen','conflict','bio','omlet','search','computers','bite','data']}\n",
    "    neighborhood_val = neighborhood_dicts.values()\n",
    "    lsi_dict = find_doc_lsi_similarity(neighborhood_dict, neighborhood_val)\n",
    "    print lsi_dict"
   ]
  },
  {
   "cell_type": "code",
   "execution_count": 12,
   "metadata": {},
   "outputs": [
    {
     "data": {
      "text/plain": [
       "[['k-nearestneighbourhood',\n",
       "  'neighbour',\n",
       "  'hen',\n",
       "  'conflict',\n",
       "  'bio',\n",
       "  'omlet',\n",
       "  'search',\n",
       "  'computers',\n",
       "  'bite',\n",
       "  'data'],\n",
       " ['pedigree', 'sound', 'eat', 'cat'],\n",
       " ['pedigree',\n",
       "  'sound',\n",
       "  'eat',\n",
       "  'dog',\n",
       "  'technology',\n",
       "  'run',\n",
       "  'rat',\n",
       "  'tech',\n",
       "  'eat',\n",
       "  'sound',\n",
       "  'run',\n",
       "  'meaww',\n",
       "  'data_science',\n",
       "  'walk',\n",
       "  'milk']]"
      ]
     },
     "execution_count": 12,
     "metadata": {},
     "output_type": "execute_result"
    }
   ],
   "source": [
    "neighborhood_val"
   ]
  },
  {
   "cell_type": "code",
   "execution_count": null,
   "metadata": {
    "collapsed": true
   },
   "outputs": [],
   "source": []
  }
 ],
 "metadata": {
  "kernelspec": {
   "display_name": "Python 2",
   "language": "python",
   "name": "python2"
  },
  "language_info": {
   "codemirror_mode": {
    "name": "ipython",
    "version": 2
   },
   "file_extension": ".py",
   "mimetype": "text/x-python",
   "name": "python",
   "nbconvert_exporter": "python",
   "pygments_lexer": "ipython2",
   "version": "2.7.14"
  }
 },
 "nbformat": 4,
 "nbformat_minor": 2
}
